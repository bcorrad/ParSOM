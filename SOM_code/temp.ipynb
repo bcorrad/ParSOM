{
 "cells": [
  {
   "cell_type": "markdown",
   "source": [
    "Notebook to generate table cells for LaTeX based on queries"
   ],
   "metadata": {
    "collapsed": false,
    "pycharm": {
     "name": "#%% md\n"
    }
   }
  },
  {
   "cell_type": "code",
   "execution_count": 47,
   "outputs": [],
   "source": [
    "import pandas as pd"
   ],
   "metadata": {
    "collapsed": false,
    "pycharm": {
     "name": "#%%\n"
    }
   }
  },
  {
   "cell_type": "code",
   "execution_count": 48,
   "outputs": [],
   "source": [
    "df = pd.read_csv(\"C:\\\\Users\\\\barba\\\\PycharmProjects\\\\SOM\\\\reports\\\\stats.csv\")"
   ],
   "metadata": {
    "collapsed": false,
    "pycharm": {
     "name": "#%%\n"
    }
   }
  },
  {
   "cell_type": "code",
   "execution_count": 49,
   "outputs": [
    {
     "data": {
      "text/plain": "['EPOCHS', 'WEIGHT_SIZE', 'GRID_ROWS', 'GRID_COLS', 'N_INPUTS']"
     },
     "execution_count": 49,
     "metadata": {},
     "output_type": "execute_result"
    }
   ],
   "source": [
    "EPOCHS = 10\n",
    "WEIGHT_SIZE = 1000\n",
    "GRID_ROWS = 100\n",
    "GRID_COLS = 100\n",
    "N_INPUTS = 100\n",
    "['EPOCHS', 'WEIGHT_SIZE', 'GRID_ROWS', 'GRID_COLS', 'N_INPUTS']"
   ],
   "metadata": {
    "collapsed": false,
    "pycharm": {
     "name": "#%%\n"
    }
   }
  },
  {
   "cell_type": "code",
   "execution_count": 50,
   "outputs": [
    {
     "name": "stdout",
     "output_type": "stream",
     "text": [
      "T_P\n",
      "\n",
      " & 96711487  & 61064904  & 51619091  & 47103983\n",
      " & 88787462  & 56248800  & 55137425  & 52588415\n",
      " & 90935702  & 60257899  & 58307647  & 50856585\n",
      "SPEEDUP\n",
      "\n",
      " & 1.000  & 1.584  & 1.874  & 2.053\n",
      " & 1.000  & 1.578  & 1.610  & 1.688\n",
      " & 1.000  & 1.509  & 1.560  & 1.788\n",
      "EFFICIENCY\n",
      "\n",
      " & 1.000  & 0.792  & 0.625  & 0.513\n",
      " & 1.000  & 0.789  & 0.537  & 0.422\n",
      " & 1.000  & 0.755  & 0.520  & 0.447\n",
      "COST\n",
      "\n",
      " & 96711487  & 122129808  & 154857273  & 188415932\n",
      " & 88787462  & 112497600  & 165412275  & 210353660\n",
      " & 90935702  & 120515798  & 174922941  & 203426340\n"
     ]
    }
   ],
   "source": [
    "for e in ['T_P', 'SPEEDUP', 'EFFICIENCY', 'COST']:\n",
    "    print(e)\n",
    "    for l in ['py', 'cpp', 'cpp_adv_stat', 'cpp_adv_dyn']:\n",
    "        m = df[(df['EPOCHS'] == EPOCHS) & (df['WEIGHT_SIZE'] == WEIGHT_SIZE) & (df['GRID_ROWS'] == GRID_ROWS) & (df['GRID_COLS'] == GRID_COLS) & (df['N_INPUTS'] == N_INPUTS) & (df['LANG'] == l)][e]\n",
    "        # print(m)\n",
    "        ml = list(m)\n",
    "        # print(e, \"-\", l)\n",
    "        if e == 'T_P' or e == 'COST':\n",
    "            print(\" \".join(\" & \" + str(int(k)) for k in ml))\n",
    "        else:\n",
    "            print(\" \".join(\" & \" + str(\"{:.3f}\".format(k)) for k in ml))\n",
    "        # print(\"\\\\\\ \\hline\")\n",
    "        # print(['*']*15)\n"
   ],
   "metadata": {
    "collapsed": false,
    "pycharm": {
     "name": "#%%\n"
    }
   }
  },
  {
   "cell_type": "code",
   "execution_count": 50,
   "outputs": [],
   "source": [],
   "metadata": {
    "collapsed": false,
    "pycharm": {
     "name": "#%%\n"
    }
   }
  }
 ],
 "metadata": {
  "kernelspec": {
   "display_name": "Python 3",
   "language": "python",
   "name": "python3"
  },
  "language_info": {
   "codemirror_mode": {
    "name": "ipython",
    "version": 2
   },
   "file_extension": ".py",
   "mimetype": "text/x-python",
   "name": "python",
   "nbconvert_exporter": "python",
   "pygments_lexer": "ipython2",
   "version": "2.7.6"
  }
 },
 "nbformat": 4,
 "nbformat_minor": 0
}