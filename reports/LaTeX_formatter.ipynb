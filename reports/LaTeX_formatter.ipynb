{
 "cells": [
  {
   "cell_type": "markdown",
   "source": [
    "Notebook to generate table cells for LaTeX based on queries"
   ],
   "metadata": {
    "collapsed": false,
    "pycharm": {
     "name": "#%% md\n"
    }
   }
  },
  {
   "cell_type": "code",
   "execution_count": 56,
   "outputs": [],
   "source": [
    "import pandas as pd"
   ],
   "metadata": {
    "collapsed": false,
    "pycharm": {
     "name": "#%%\n"
    }
   }
  },
  {
   "cell_type": "code",
   "execution_count": 57,
   "outputs": [],
   "source": [
    "df = pd.read_csv(\"C:\\\\Users\\\\barba\\\\PycharmProjects\\\\SOM\\\\reports\\\\stats.csv\")"
   ],
   "metadata": {
    "collapsed": false,
    "pycharm": {
     "name": "#%%\n"
    }
   }
  },
  {
   "cell_type": "code",
   "execution_count": 58,
   "outputs": [
    {
     "data": {
      "text/plain": "['EPOCHS', 'WEIGHT_SIZE', 'GRID_ROWS', 'GRID_COLS', 'N_INPUTS']"
     },
     "execution_count": 58,
     "metadata": {},
     "output_type": "execute_result"
    }
   ],
   "source": [
    "EPOCHS = 10\n",
    "WEIGHT_SIZE = 10\n",
    "GRID_ROWS = 10\n",
    "GRID_COLS = 10\n",
    "N_INPUTS = 10\n",
    "['EPOCHS', 'WEIGHT_SIZE', 'GRID_ROWS', 'GRID_COLS', 'N_INPUTS']"
   ],
   "metadata": {
    "collapsed": false,
    "pycharm": {
     "name": "#%%\n"
    }
   }
  },
  {
   "cell_type": "code",
   "execution_count": 59,
   "outputs": [
    {
     "data": {
      "text/plain": "     N_TH  WEIGHT_SIZE  EPOCHS  GRID_ROWS  GRID_COLS  N_INPUTS           T_1  \\\n0       1           10      10         10         10        10  1.424003e+06   \n1       2           10      10         10         10        10  1.424003e+06   \n2       3           10      10         10         10        10  1.424003e+06   \n3       4           10      10         10         10        10  1.424003e+06   \n4       1           10      10         10         10       100  1.028500e+07   \n..    ...          ...     ...        ...        ...       ...           ...   \n314     4         1000      10        100        100        10  9.332408e+06   \n315     1         1000      10        100        100       100  9.093570e+07   \n316     2         1000      10        100        100       100  9.093570e+07   \n317     3         1000      10        100        100       100  9.093570e+07   \n318     4         1000      10        100        100       100  9.093570e+07   \n\n              T_P   SPEEDUP  EFFICIENCY          COST         LANG  \\\n0    1.424003e+06  1.000000    1.000000  1.424003e+06           py   \n1    2.833173e+06  0.502618    0.251309  5.666347e+06           py   \n2    2.442795e+06  0.582940    0.194313  7.328384e+06           py   \n3    2.407364e+06  0.591519    0.147880  9.629456e+06           py   \n4    1.028500e+07  1.000000    1.000000  1.028500e+07           py   \n..            ...       ...         ...           ...          ...   \n314  4.043826e+06  2.307816    0.576954  1.617530e+07  cpp_adv_dyn   \n315  9.093570e+07  1.000000    1.000000  9.093570e+07  cpp_adv_dyn   \n316  6.025790e+07  1.509108    0.754554  1.205158e+08  cpp_adv_dyn   \n317  5.830765e+07  1.559584    0.519861  1.749229e+08  cpp_adv_dyn   \n318  5.085658e+07  1.788081    0.447020  2.034263e+08  cpp_adv_dyn   \n\n         OVERHEAD  \n0    0.000000e+00  \n1    4.242344e+06  \n2    5.904381e+06  \n3    8.205453e+06  \n4    0.000000e+00  \n..            ...  \n314  6.842896e+06  \n315  0.000000e+00  \n316  2.958010e+07  \n317  8.398724e+07  \n318  1.124906e+08  \n\n[319 rows x 13 columns]",
      "text/html": "<div>\n<style scoped>\n    .dataframe tbody tr th:only-of-type {\n        vertical-align: middle;\n    }\n\n    .dataframe tbody tr th {\n        vertical-align: top;\n    }\n\n    .dataframe thead th {\n        text-align: right;\n    }\n</style>\n<table border=\"1\" class=\"dataframe\">\n  <thead>\n    <tr style=\"text-align: right;\">\n      <th></th>\n      <th>N_TH</th>\n      <th>WEIGHT_SIZE</th>\n      <th>EPOCHS</th>\n      <th>GRID_ROWS</th>\n      <th>GRID_COLS</th>\n      <th>N_INPUTS</th>\n      <th>T_1</th>\n      <th>T_P</th>\n      <th>SPEEDUP</th>\n      <th>EFFICIENCY</th>\n      <th>COST</th>\n      <th>LANG</th>\n      <th>OVERHEAD</th>\n    </tr>\n  </thead>\n  <tbody>\n    <tr>\n      <th>0</th>\n      <td>1</td>\n      <td>10</td>\n      <td>10</td>\n      <td>10</td>\n      <td>10</td>\n      <td>10</td>\n      <td>1.424003e+06</td>\n      <td>1.424003e+06</td>\n      <td>1.000000</td>\n      <td>1.000000</td>\n      <td>1.424003e+06</td>\n      <td>py</td>\n      <td>0.000000e+00</td>\n    </tr>\n    <tr>\n      <th>1</th>\n      <td>2</td>\n      <td>10</td>\n      <td>10</td>\n      <td>10</td>\n      <td>10</td>\n      <td>10</td>\n      <td>1.424003e+06</td>\n      <td>2.833173e+06</td>\n      <td>0.502618</td>\n      <td>0.251309</td>\n      <td>5.666347e+06</td>\n      <td>py</td>\n      <td>4.242344e+06</td>\n    </tr>\n    <tr>\n      <th>2</th>\n      <td>3</td>\n      <td>10</td>\n      <td>10</td>\n      <td>10</td>\n      <td>10</td>\n      <td>10</td>\n      <td>1.424003e+06</td>\n      <td>2.442795e+06</td>\n      <td>0.582940</td>\n      <td>0.194313</td>\n      <td>7.328384e+06</td>\n      <td>py</td>\n      <td>5.904381e+06</td>\n    </tr>\n    <tr>\n      <th>3</th>\n      <td>4</td>\n      <td>10</td>\n      <td>10</td>\n      <td>10</td>\n      <td>10</td>\n      <td>10</td>\n      <td>1.424003e+06</td>\n      <td>2.407364e+06</td>\n      <td>0.591519</td>\n      <td>0.147880</td>\n      <td>9.629456e+06</td>\n      <td>py</td>\n      <td>8.205453e+06</td>\n    </tr>\n    <tr>\n      <th>4</th>\n      <td>1</td>\n      <td>10</td>\n      <td>10</td>\n      <td>10</td>\n      <td>10</td>\n      <td>100</td>\n      <td>1.028500e+07</td>\n      <td>1.028500e+07</td>\n      <td>1.000000</td>\n      <td>1.000000</td>\n      <td>1.028500e+07</td>\n      <td>py</td>\n      <td>0.000000e+00</td>\n    </tr>\n    <tr>\n      <th>...</th>\n      <td>...</td>\n      <td>...</td>\n      <td>...</td>\n      <td>...</td>\n      <td>...</td>\n      <td>...</td>\n      <td>...</td>\n      <td>...</td>\n      <td>...</td>\n      <td>...</td>\n      <td>...</td>\n      <td>...</td>\n      <td>...</td>\n    </tr>\n    <tr>\n      <th>314</th>\n      <td>4</td>\n      <td>1000</td>\n      <td>10</td>\n      <td>100</td>\n      <td>100</td>\n      <td>10</td>\n      <td>9.332408e+06</td>\n      <td>4.043826e+06</td>\n      <td>2.307816</td>\n      <td>0.576954</td>\n      <td>1.617530e+07</td>\n      <td>cpp_adv_dyn</td>\n      <td>6.842896e+06</td>\n    </tr>\n    <tr>\n      <th>315</th>\n      <td>1</td>\n      <td>1000</td>\n      <td>10</td>\n      <td>100</td>\n      <td>100</td>\n      <td>100</td>\n      <td>9.093570e+07</td>\n      <td>9.093570e+07</td>\n      <td>1.000000</td>\n      <td>1.000000</td>\n      <td>9.093570e+07</td>\n      <td>cpp_adv_dyn</td>\n      <td>0.000000e+00</td>\n    </tr>\n    <tr>\n      <th>316</th>\n      <td>2</td>\n      <td>1000</td>\n      <td>10</td>\n      <td>100</td>\n      <td>100</td>\n      <td>100</td>\n      <td>9.093570e+07</td>\n      <td>6.025790e+07</td>\n      <td>1.509108</td>\n      <td>0.754554</td>\n      <td>1.205158e+08</td>\n      <td>cpp_adv_dyn</td>\n      <td>2.958010e+07</td>\n    </tr>\n    <tr>\n      <th>317</th>\n      <td>3</td>\n      <td>1000</td>\n      <td>10</td>\n      <td>100</td>\n      <td>100</td>\n      <td>100</td>\n      <td>9.093570e+07</td>\n      <td>5.830765e+07</td>\n      <td>1.559584</td>\n      <td>0.519861</td>\n      <td>1.749229e+08</td>\n      <td>cpp_adv_dyn</td>\n      <td>8.398724e+07</td>\n    </tr>\n    <tr>\n      <th>318</th>\n      <td>4</td>\n      <td>1000</td>\n      <td>10</td>\n      <td>100</td>\n      <td>100</td>\n      <td>100</td>\n      <td>9.093570e+07</td>\n      <td>5.085658e+07</td>\n      <td>1.788081</td>\n      <td>0.447020</td>\n      <td>2.034263e+08</td>\n      <td>cpp_adv_dyn</td>\n      <td>1.124906e+08</td>\n    </tr>\n  </tbody>\n</table>\n<p>319 rows × 13 columns</p>\n</div>"
     },
     "execution_count": 59,
     "metadata": {},
     "output_type": "execute_result"
    }
   ],
   "source": [
    "# Calculate overhead for each row\n",
    "df['OVERHEAD'] = df['COST']-df['T_1']\n",
    "df"
   ],
   "metadata": {
    "collapsed": false,
    "pycharm": {
     "name": "#%%\n"
    }
   }
  },
  {
   "cell_type": "code",
   "execution_count": 60,
   "outputs": [
    {
     "name": "stdout",
     "output_type": "stream",
     "text": [
      "T_P\n",
      " & 1424002  & 2833173  & 2442794  & 2407363\n",
      " & 60884  & 53193  & 48653  & 42956\n",
      " & 48997  & 42033  & 38951  & 37494\n",
      " & 64804  & 50949  & 46459  & 43813\n",
      "SPEEDUP\n",
      " & 1.000  & 0.503  & 0.583  & 0.592\n",
      " & 1.000  & 1.145  & 1.251  & 1.417\n",
      " & 1.000  & 1.166  & 1.258  & 1.307\n",
      " & 1.000  & 1.272  & 1.395  & 1.479\n",
      "EFFICIENCY\n",
      " & 1.000  & 0.251  & 0.194  & 0.148\n",
      " & 1.000  & 0.572  & 0.417  & 0.354\n",
      " & 1.000  & 0.583  & 0.419  & 0.327\n",
      " & 1.000  & 0.636  & 0.465  & 0.370\n",
      "COST\n",
      " & 1424002  & 5666346  & 7328383  & 9629455\n",
      " & 60884  & 106386  & 145959  & 171824\n",
      " & 48997  & 84066  & 116853  & 149976\n",
      " & 64804  & 101898  & 139377  & 175252\n"
     ]
    }
   ],
   "source": [
    "for e in ['T_P', 'SPEEDUP', 'EFFICIENCY', 'COST']:\n",
    "    print(e)\n",
    "    for l in ['py', 'cpp', 'cpp_adv_stat', 'cpp_adv_dyn']:\n",
    "        m = df[(df['EPOCHS'] == EPOCHS) & (df['WEIGHT_SIZE'] == WEIGHT_SIZE) & (df['GRID_ROWS'] == GRID_ROWS) & (df['GRID_COLS'] == GRID_COLS) & (df['N_INPUTS'] == N_INPUTS) & (df['LANG'] == l)][e]\n",
    "        ml = list(m)\n",
    "        if e in ['T_P', 'COST']:\n",
    "            print(\" \".join(\" & \" + str(\"{:0=5.3f}e+5\".format(k/1e5)) for k in ml))\n",
    "        else:\n",
    "            print(\" \".join(\" & \" + str(\"{:.3f}\".format(k)) for k in ml))\n"
   ],
   "metadata": {
    "collapsed": false,
    "pycharm": {
     "name": "#%%\n"
    }
   }
  },
  {
   "cell_type": "code",
   "execution_count": 60,
   "outputs": [],
   "source": [],
   "metadata": {
    "collapsed": false,
    "pycharm": {
     "name": "#%%\n"
    }
   }
  }
 ],
 "metadata": {
  "kernelspec": {
   "display_name": "Python 3",
   "language": "python",
   "name": "python3"
  },
  "language_info": {
   "codemirror_mode": {
    "name": "ipython",
    "version": 2
   },
   "file_extension": ".py",
   "mimetype": "text/x-python",
   "name": "python",
   "nbconvert_exporter": "python",
   "pygments_lexer": "ipython2",
   "version": "2.7.6"
  }
 },
 "nbformat": 4,
 "nbformat_minor": 0
}